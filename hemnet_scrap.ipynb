{
 "cells": [
  {
   "cell_type": "markdown",
   "metadata": {
    "toc": true
   },
   "source": [
    "<h1>Table of Contents<span class=\"tocSkip\"></span></h1>\n",
    "<div class=\"toc\"><ul class=\"toc-item\"><li><span><a href=\"#Partial-updates\" data-toc-modified-id=\"Partial-updates-1\"><span class=\"toc-item-num\">1&nbsp;&nbsp;</span>Partial updates</a></span></li></ul></div>"
   ]
  },
  {
   "cell_type": "code",
   "execution_count": 86,
   "metadata": {
    "ExecuteTime": {
     "end_time": "2020-12-11T20:55:19.630415Z",
     "start_time": "2020-12-11T20:55:19.626087Z"
    }
   },
   "outputs": [],
   "source": [
    "import os\n",
    "import requests\n",
    "import pprint\n",
    "import pandas as pd\n",
    "import pandas_gbq\n",
    "import numpy as np\n",
    "import re\n",
    "import itertools\n",
    "\n",
    "from time import sleep\n",
    "from google.oauth2 import service_account\n",
    "from bs4 import BeautifulSoup\n",
    "from datetime import datetime\n",
    "from requests_html import HTML , HTMLSession"
   ]
  },
  {
   "cell_type": "code",
   "execution_count": 60,
   "metadata": {
    "ExecuteTime": {
     "end_time": "2020-12-11T20:27:16.752944Z",
     "start_time": "2020-12-11T20:27:16.645203Z"
    }
   },
   "outputs": [],
   "source": []
  },
  {
   "cell_type": "code",
   "execution_count": 33,
   "metadata": {
    "ExecuteTime": {
     "end_time": "2020-12-11T20:15:29.781231Z",
     "start_time": "2020-12-11T20:15:29.777972Z"
    }
   },
   "outputs": [],
   "source": []
  },
  {
   "cell_type": "code",
   "execution_count": null,
   "metadata": {
    "ExecuteTime": {
     "end_time": "2020-12-11T20:16:18.742675Z",
     "start_time": "2020-12-11T20:16:18.736853Z"
    }
   },
   "outputs": [],
   "source": []
  },
  {
   "cell_type": "code",
   "execution_count": 206,
   "metadata": {
    "ExecuteTime": {
     "end_time": "2020-12-12T07:19:00.842658Z",
     "start_time": "2020-12-12T07:19:00.645563Z"
    }
   },
   "outputs": [],
   "source": [
    "HOME = \"https://www.hemnet.se\"\n",
    "url=HOME + \"/sitemap\"\n",
    "def find_el_by_cl(r_html, el='li', cl=('sitemap__list-item',)):\n",
    "        els=r_html.find(el)\n",
    "        return [el for el in els if el.attrs.get('class')==cl]\n",
    "        \n",
    "\n",
    "def get_lists(url):\n",
    "    r=requests.get(url)\n",
    "    r_html=HTML(html=r.text)\n",
    "    els=find_el_by_cl(r_html,  el='li', cl=('sitemap__list-item',) )\n",
    "    els=[el.find('li')[0].find('a')[0].attrs.get('href') for el in els]\n",
    "    return  [el for el in els if el.startswith('/sitemap/plats/')]\n",
    "lans=get_lists(url)"
   ]
  },
  {
   "cell_type": "code",
   "execution_count": 262,
   "metadata": {
    "ExecuteTime": {
     "end_time": "2020-12-12T07:44:58.321969Z",
     "start_time": "2020-12-12T07:44:58.315770Z"
    }
   },
   "outputs": [
    {
     "data": {
      "text/plain": [
       "'Karlshamns'"
      ]
     },
     "execution_count": 262,
     "metadata": {},
     "output_type": "execute_result"
    }
   ],
   "source": [
    "#find_el_by_cl(r_html, el='h1', cl='sitemap__heading')\n",
    "city=r_html.find('h1')[0].text.split(' ')[2]"
   ]
  },
  {
   "cell_type": "code",
   "execution_count": 209,
   "metadata": {
    "ExecuteTime": {
     "end_time": "2020-12-12T07:19:17.760537Z",
     "start_time": "2020-12-12T07:19:17.757588Z"
    }
   },
   "outputs": [],
   "source": [
    "\n",
    "lans_urls = [HOME+el for el in lans]"
   ]
  },
  {
   "cell_type": "code",
   "execution_count": 222,
   "metadata": {
    "ExecuteTime": {
     "end_time": "2020-12-12T07:22:31.769384Z",
     "start_time": "2020-12-12T07:22:28.239384Z"
    }
   },
   "outputs": [],
   "source": [
    "def get_urls(urls):\n",
    "    return [get_lists(url) for url in urls]\n",
    "komms_raw=get_urls(lans_urls)"
   ]
  },
  {
   "cell_type": "code",
   "execution_count": 226,
   "metadata": {
    "ExecuteTime": {
     "end_time": "2020-12-12T07:24:32.494352Z",
     "start_time": "2020-12-12T07:24:32.486229Z"
    }
   },
   "outputs": [
    {
     "data": {
      "text/plain": [
       "['https://www.hemnet.se/sitemap/plats/blekinge-lan/karlshamns-kommun',\n",
       " 'https://www.hemnet.se/sitemap/plats/blekinge-lan/karlskrona-kommun',\n",
       " 'https://www.hemnet.se/sitemap/plats/blekinge-lan/olofstroms-kommun',\n",
       " 'https://www.hemnet.se/sitemap/plats/blekinge-lan/ronneby-kommun',\n",
       " 'https://www.hemnet.se/sitemap/plats/blekinge-lan/solvesborgs-kommun',\n",
       " 'https://www.hemnet.se/sitemap/plats/dalarnas-lan/avesta-kommun',\n",
       " 'https://www.hemnet.se/sitemap/plats/dalarnas-lan/borlange-kommun',\n",
       " 'https://www.hemnet.se/sitemap/plats/dalarnas-lan/falu-kommun',\n",
       " 'https://www.hemnet.se/sitemap/plats/dalarnas-lan/gagnefs-kommun',\n",
       " 'https://www.hemnet.se/sitemap/plats/dalarnas-lan/hedemora-kommun',\n",
       " 'https://www.hemnet.se/sitemap/plats/dalarnas-lan/leksands-kommun',\n",
       " 'https://www.hemnet.se/sitemap/plats/dalarnas-lan/ludvika-kommun',\n",
       " 'https://www.hemnet.se/sitemap/plats/dalarnas-lan/malung-salens-kommun',\n",
       " 'https://www.hemnet.se/sitemap/plats/dalarnas-lan/mora-kommun',\n",
       " 'https://www.hemnet.se/sitemap/plats/dalarnas-lan/orsa-kommun',\n",
       " 'https://www.hemnet.se/sitemap/plats/dalarnas-lan/rattviks-kommun',\n",
       " 'https://www.hemnet.se/sitemap/plats/dalarnas-lan/smedjebackens-kommun',\n",
       " 'https://www.hemnet.se/sitemap/plats/dalarnas-lan/saters-kommun',\n",
       " 'https://www.hemnet.se/sitemap/plats/dalarnas-lan/vansbro-kommun',\n",
       " 'https://www.hemnet.se/sitemap/plats/dalarnas-lan/alvdalens-kommun',\n",
       " 'https://www.hemnet.se/sitemap/plats/gotlands-lan/gotlands-kommun',\n",
       " 'https://www.hemnet.se/sitemap/plats/gavleborgs-lan/bollnas-kommun',\n",
       " 'https://www.hemnet.se/sitemap/plats/gavleborgs-lan/gavle-kommun',\n",
       " 'https://www.hemnet.se/sitemap/plats/gavleborgs-lan/hofors-kommun',\n",
       " 'https://www.hemnet.se/sitemap/plats/gavleborgs-lan/hudiksvalls-kommun',\n",
       " 'https://www.hemnet.se/sitemap/plats/gavleborgs-lan/ljusdals-kommun',\n",
       " 'https://www.hemnet.se/sitemap/plats/gavleborgs-lan/nordanstigs-kommun',\n",
       " 'https://www.hemnet.se/sitemap/plats/gavleborgs-lan/ockelbo-kommun',\n",
       " 'https://www.hemnet.se/sitemap/plats/gavleborgs-lan/ovanakers-kommun',\n",
       " 'https://www.hemnet.se/sitemap/plats/gavleborgs-lan/sandvikens-kommun',\n",
       " 'https://www.hemnet.se/sitemap/plats/gavleborgs-lan/soderhamns-kommun',\n",
       " 'https://www.hemnet.se/sitemap/plats/hallands-lan/falkenbergs-kommun',\n",
       " 'https://www.hemnet.se/sitemap/plats/hallands-lan/halmstads-kommun',\n",
       " 'https://www.hemnet.se/sitemap/plats/hallands-lan/hylte-kommun',\n",
       " 'https://www.hemnet.se/sitemap/plats/hallands-lan/kungsbacka-kommun',\n",
       " 'https://www.hemnet.se/sitemap/plats/hallands-lan/laholms-kommun',\n",
       " 'https://www.hemnet.se/sitemap/plats/hallands-lan/varbergs-kommun',\n",
       " 'https://www.hemnet.se/sitemap/plats/jamtlands-lan/bergs-kommun',\n",
       " 'https://www.hemnet.se/sitemap/plats/jamtlands-lan/bracke-kommun',\n",
       " 'https://www.hemnet.se/sitemap/plats/jamtlands-lan/harjedalens-kommun',\n",
       " 'https://www.hemnet.se/sitemap/plats/jamtlands-lan/krokoms-kommun',\n",
       " 'https://www.hemnet.se/sitemap/plats/jamtlands-lan/ragunda-kommun',\n",
       " 'https://www.hemnet.se/sitemap/plats/jamtlands-lan/stromsunds-kommun',\n",
       " 'https://www.hemnet.se/sitemap/plats/jamtlands-lan/are-kommun',\n",
       " 'https://www.hemnet.se/sitemap/plats/jamtlands-lan/ostersunds-kommun',\n",
       " 'https://www.hemnet.se/sitemap/plats/jonkopings-lan/aneby-kommun',\n",
       " 'https://www.hemnet.se/sitemap/plats/jonkopings-lan/eksjo-kommun',\n",
       " 'https://www.hemnet.se/sitemap/plats/jonkopings-lan/gislaveds-kommun',\n",
       " 'https://www.hemnet.se/sitemap/plats/jonkopings-lan/gnosjo-kommun',\n",
       " 'https://www.hemnet.se/sitemap/plats/jonkopings-lan/habo-kommun',\n",
       " 'https://www.hemnet.se/sitemap/plats/jonkopings-lan/jonkopings-kommun',\n",
       " 'https://www.hemnet.se/sitemap/plats/jonkopings-lan/mullsjo-kommun',\n",
       " 'https://www.hemnet.se/sitemap/plats/jonkopings-lan/nassjo-kommun',\n",
       " 'https://www.hemnet.se/sitemap/plats/jonkopings-lan/savsjo-kommun',\n",
       " 'https://www.hemnet.se/sitemap/plats/jonkopings-lan/tranas-kommun',\n",
       " 'https://www.hemnet.se/sitemap/plats/jonkopings-lan/vaggeryds-kommun',\n",
       " 'https://www.hemnet.se/sitemap/plats/jonkopings-lan/vetlanda-kommun',\n",
       " 'https://www.hemnet.se/sitemap/plats/jonkopings-lan/varnamo-kommun',\n",
       " 'https://www.hemnet.se/sitemap/plats/kalmar-oland-lan/borgholms-kommun',\n",
       " 'https://www.hemnet.se/sitemap/plats/kalmar-oland-lan/emmaboda-kommun',\n",
       " 'https://www.hemnet.se/sitemap/plats/kalmar-oland-lan/hultsfreds-kommun',\n",
       " 'https://www.hemnet.se/sitemap/plats/kalmar-oland-lan/hogsby-kommun',\n",
       " 'https://www.hemnet.se/sitemap/plats/kalmar-oland-lan/kalmar-kommun',\n",
       " 'https://www.hemnet.se/sitemap/plats/kalmar-oland-lan/monsteras-kommun',\n",
       " 'https://www.hemnet.se/sitemap/plats/kalmar-oland-lan/morbylanga-kommun',\n",
       " 'https://www.hemnet.se/sitemap/plats/kalmar-oland-lan/nybro-kommun',\n",
       " 'https://www.hemnet.se/sitemap/plats/kalmar-oland-lan/oskarshamns-kommun',\n",
       " 'https://www.hemnet.se/sitemap/plats/kalmar-oland-lan/torsas-kommun',\n",
       " 'https://www.hemnet.se/sitemap/plats/kalmar-oland-lan/vimmerby-kommun',\n",
       " 'https://www.hemnet.se/sitemap/plats/kalmar-oland-lan/vasterviks-kommun',\n",
       " 'https://www.hemnet.se/sitemap/plats/kalmar-oland-lan/oland',\n",
       " 'https://www.hemnet.se/sitemap/plats/kronobergs-lan/alvesta-kommun',\n",
       " 'https://www.hemnet.se/sitemap/plats/kronobergs-lan/lessebo-kommun',\n",
       " 'https://www.hemnet.se/sitemap/plats/kronobergs-lan/ljungby-kommun',\n",
       " 'https://www.hemnet.se/sitemap/plats/kronobergs-lan/markaryds-kommun',\n",
       " 'https://www.hemnet.se/sitemap/plats/kronobergs-lan/tingsryds-kommun',\n",
       " 'https://www.hemnet.se/sitemap/plats/kronobergs-lan/uppvidinge-kommun',\n",
       " 'https://www.hemnet.se/sitemap/plats/kronobergs-lan/vaxjo-kommun',\n",
       " 'https://www.hemnet.se/sitemap/plats/kronobergs-lan/almhults-kommun',\n",
       " 'https://www.hemnet.se/sitemap/plats/norrbottens-lan/arjeplogs-kommun',\n",
       " 'https://www.hemnet.se/sitemap/plats/norrbottens-lan/arvidsjaurs-kommun',\n",
       " 'https://www.hemnet.se/sitemap/plats/norrbottens-lan/bodens-kommun',\n",
       " 'https://www.hemnet.se/sitemap/plats/norrbottens-lan/gallivare-kommun',\n",
       " 'https://www.hemnet.se/sitemap/plats/norrbottens-lan/haparanda-kommun',\n",
       " 'https://www.hemnet.se/sitemap/plats/norrbottens-lan/jokkmokks-kommun',\n",
       " 'https://www.hemnet.se/sitemap/plats/norrbottens-lan/kalix-kommun',\n",
       " 'https://www.hemnet.se/sitemap/plats/norrbottens-lan/kiruna-kommun',\n",
       " 'https://www.hemnet.se/sitemap/plats/norrbottens-lan/lulea-kommun',\n",
       " 'https://www.hemnet.se/sitemap/plats/norrbottens-lan/pajala-kommun',\n",
       " 'https://www.hemnet.se/sitemap/plats/norrbottens-lan/pitea-kommun',\n",
       " 'https://www.hemnet.se/sitemap/plats/norrbottens-lan/alvsbyns-kommun',\n",
       " 'https://www.hemnet.se/sitemap/plats/norrbottens-lan/overkalix-kommun',\n",
       " 'https://www.hemnet.se/sitemap/plats/norrbottens-lan/overtornea-kommun',\n",
       " 'https://www.hemnet.se/sitemap/plats/skane-lan/bjuvs-kommun',\n",
       " 'https://www.hemnet.se/sitemap/plats/skane-lan/bromolla-kommun',\n",
       " 'https://www.hemnet.se/sitemap/plats/skane-lan/burlovs-kommun',\n",
       " 'https://www.hemnet.se/sitemap/plats/skane-lan/bastads-kommun',\n",
       " 'https://www.hemnet.se/sitemap/plats/skane-lan/eslovs-kommun',\n",
       " 'https://www.hemnet.se/sitemap/plats/skane-lan/helsingborgs-kommun',\n",
       " 'https://www.hemnet.se/sitemap/plats/skane-lan/hassleholms-kommun',\n",
       " 'https://www.hemnet.se/sitemap/plats/skane-lan/hoganas-kommun',\n",
       " 'https://www.hemnet.se/sitemap/plats/skane-lan/horby-kommun',\n",
       " 'https://www.hemnet.se/sitemap/plats/skane-lan/hoors-kommun',\n",
       " 'https://www.hemnet.se/sitemap/plats/skane-lan/klippans-kommun',\n",
       " 'https://www.hemnet.se/sitemap/plats/skane-lan/kristianstads-kommun',\n",
       " 'https://www.hemnet.se/sitemap/plats/skane-lan/kavlinge-kommun',\n",
       " 'https://www.hemnet.se/sitemap/plats/skane-lan/landskrona-kommun',\n",
       " 'https://www.hemnet.se/sitemap/plats/skane-lan/lomma-kommun',\n",
       " 'https://www.hemnet.se/sitemap/plats/skane-lan/lunds-kommun',\n",
       " 'https://www.hemnet.se/sitemap/plats/skane-lan/malmo-kommun',\n",
       " 'https://www.hemnet.se/sitemap/plats/skane-lan/osby-kommun',\n",
       " 'https://www.hemnet.se/sitemap/plats/skane-lan/perstorps-kommun',\n",
       " 'https://www.hemnet.se/sitemap/plats/skane-lan/simrishamns-kommun',\n",
       " 'https://www.hemnet.se/sitemap/plats/skane-lan/sjobo-kommun',\n",
       " 'https://www.hemnet.se/sitemap/plats/skane-lan/skurups-kommun',\n",
       " 'https://www.hemnet.se/sitemap/plats/skane-lan/staffanstorps-kommun',\n",
       " 'https://www.hemnet.se/sitemap/plats/skane-lan/svalovs-kommun',\n",
       " 'https://www.hemnet.se/sitemap/plats/skane-lan/svedala-kommun',\n",
       " 'https://www.hemnet.se/sitemap/plats/skane-lan/tomelilla-kommun',\n",
       " 'https://www.hemnet.se/sitemap/plats/skane-lan/trelleborgs-kommun',\n",
       " 'https://www.hemnet.se/sitemap/plats/skane-lan/vellinge-kommun',\n",
       " 'https://www.hemnet.se/sitemap/plats/skane-lan/ystads-kommun',\n",
       " 'https://www.hemnet.se/sitemap/plats/skane-lan/astorps-kommun',\n",
       " 'https://www.hemnet.se/sitemap/plats/skane-lan/angelholms-kommun',\n",
       " 'https://www.hemnet.se/sitemap/plats/skane-lan/orkelljunga-kommun',\n",
       " 'https://www.hemnet.se/sitemap/plats/skane-lan/osterlen',\n",
       " 'https://www.hemnet.se/sitemap/plats/skane-lan/ostra-goinge-kommun',\n",
       " 'https://www.hemnet.se/sitemap/plats/stockholms-lan/botkyrka-kommun',\n",
       " 'https://www.hemnet.se/sitemap/plats/stockholms-lan/danderyds-kommun',\n",
       " 'https://www.hemnet.se/sitemap/plats/stockholms-lan/ekero-kommun',\n",
       " 'https://www.hemnet.se/sitemap/plats/stockholms-lan/hagastaden',\n",
       " 'https://www.hemnet.se/sitemap/plats/stockholms-lan/haninge-kommun',\n",
       " 'https://www.hemnet.se/sitemap/plats/stockholms-lan/huddinge-kommun',\n",
       " 'https://www.hemnet.se/sitemap/plats/stockholms-lan/jarfalla-kommun',\n",
       " 'https://www.hemnet.se/sitemap/plats/stockholms-lan/lidingo-kommun',\n",
       " 'https://www.hemnet.se/sitemap/plats/stockholms-lan/nacka-kommun',\n",
       " 'https://www.hemnet.se/sitemap/plats/stockholms-lan/norrtalje-kommun',\n",
       " 'https://www.hemnet.se/sitemap/plats/stockholms-lan/nykvarns-kommun',\n",
       " 'https://www.hemnet.se/sitemap/plats/stockholms-lan/nynashamns-kommun',\n",
       " 'https://www.hemnet.se/sitemap/plats/stockholms-lan/salems-kommun',\n",
       " 'https://www.hemnet.se/sitemap/plats/stockholms-lan/sigtuna-kommun',\n",
       " 'https://www.hemnet.se/sitemap/plats/stockholms-lan/sollentuna-kommun',\n",
       " 'https://www.hemnet.se/sitemap/plats/stockholms-lan/solna-kommun',\n",
       " 'https://www.hemnet.se/sitemap/plats/stockholms-lan/stockholms-kommun',\n",
       " 'https://www.hemnet.se/sitemap/plats/stockholms-lan/stockholms-skargard',\n",
       " 'https://www.hemnet.se/sitemap/plats/stockholms-lan/stockholms-skargard',\n",
       " 'https://www.hemnet.se/sitemap/plats/stockholms-lan/stockholms-skargard',\n",
       " 'https://www.hemnet.se/sitemap/plats/stockholms-lan/stockholms-skargard',\n",
       " 'https://www.hemnet.se/sitemap/plats/stockholms-lan/stockholms-skargard',\n",
       " 'https://www.hemnet.se/sitemap/plats/stockholms-lan/stockholms-skargard',\n",
       " 'https://www.hemnet.se/sitemap/plats/stockholms-lan/stockholms-skargard',\n",
       " 'https://www.hemnet.se/sitemap/plats/stockholms-lan/sundbybergs-kommun',\n",
       " 'https://www.hemnet.se/sitemap/plats/stockholms-lan/sodertalje-kommun',\n",
       " 'https://www.hemnet.se/sitemap/plats/stockholms-lan/tyreso-kommun',\n",
       " 'https://www.hemnet.se/sitemap/plats/stockholms-lan/taby-kommun',\n",
       " 'https://www.hemnet.se/sitemap/plats/stockholms-lan/upplands-bro-kommun',\n",
       " 'https://www.hemnet.se/sitemap/plats/stockholms-lan/upplands-vasby-kommun',\n",
       " 'https://www.hemnet.se/sitemap/plats/stockholms-lan/vallentuna-kommun',\n",
       " 'https://www.hemnet.se/sitemap/plats/stockholms-lan/vaxholms-kommun',\n",
       " 'https://www.hemnet.se/sitemap/plats/stockholms-lan/varmdo-kommun',\n",
       " 'https://www.hemnet.se/sitemap/plats/stockholms-lan/osterakers-kommun',\n",
       " 'https://www.hemnet.se/sitemap/plats/sodermanlands-lan/eskilstuna-kommun',\n",
       " 'https://www.hemnet.se/sitemap/plats/sodermanlands-lan/flens-kommun',\n",
       " 'https://www.hemnet.se/sitemap/plats/sodermanlands-lan/gnesta-kommun',\n",
       " 'https://www.hemnet.se/sitemap/plats/sodermanlands-lan/katrineholms-kommun',\n",
       " 'https://www.hemnet.se/sitemap/plats/sodermanlands-lan/nykopings-kommun',\n",
       " 'https://www.hemnet.se/sitemap/plats/sodermanlands-lan/oxelosunds-kommun',\n",
       " 'https://www.hemnet.se/sitemap/plats/sodermanlands-lan/strangnas-kommun',\n",
       " 'https://www.hemnet.se/sitemap/plats/sodermanlands-lan/trosa-kommun',\n",
       " 'https://www.hemnet.se/sitemap/plats/sodermanlands-lan/vingakers-kommun',\n",
       " 'https://www.hemnet.se/sitemap/plats/uppsala-lan/enkopings-kommun',\n",
       " 'https://www.hemnet.se/sitemap/plats/uppsala-lan/heby-kommun',\n",
       " 'https://www.hemnet.se/sitemap/plats/uppsala-lan/uppsala-habo-kommun',\n",
       " 'https://www.hemnet.se/sitemap/plats/uppsala-lan/knivsta-kommun',\n",
       " 'https://www.hemnet.se/sitemap/plats/uppsala-lan/tierps-kommun',\n",
       " 'https://www.hemnet.se/sitemap/plats/uppsala-lan/uppsala-kommun',\n",
       " 'https://www.hemnet.se/sitemap/plats/uppsala-lan/alvkarleby-kommun',\n",
       " 'https://www.hemnet.se/sitemap/plats/uppsala-lan/osthammars-kommun',\n",
       " 'https://www.hemnet.se/sitemap/plats/varmlands-lan/arvika-kommun',\n",
       " 'https://www.hemnet.se/sitemap/plats/varmlands-lan/eda-kommun',\n",
       " 'https://www.hemnet.se/sitemap/plats/varmlands-lan/filipstads-kommun',\n",
       " 'https://www.hemnet.se/sitemap/plats/varmlands-lan/forshaga-kommun',\n",
       " 'https://www.hemnet.se/sitemap/plats/varmlands-lan/grums-kommun',\n",
       " 'https://www.hemnet.se/sitemap/plats/varmlands-lan/hagfors-kommun',\n",
       " 'https://www.hemnet.se/sitemap/plats/varmlands-lan/hammaro-kommun',\n",
       " 'https://www.hemnet.se/sitemap/plats/varmlands-lan/karlstads-kommun',\n",
       " 'https://www.hemnet.se/sitemap/plats/varmlands-lan/kils-kommun',\n",
       " 'https://www.hemnet.se/sitemap/plats/varmlands-lan/kristinehamns-kommun',\n",
       " 'https://www.hemnet.se/sitemap/plats/varmlands-lan/munkfors-kommun',\n",
       " 'https://www.hemnet.se/sitemap/plats/varmlands-lan/storfors-kommun',\n",
       " 'https://www.hemnet.se/sitemap/plats/varmlands-lan/sunne-kommun',\n",
       " 'https://www.hemnet.se/sitemap/plats/varmlands-lan/saffle-kommun',\n",
       " 'https://www.hemnet.se/sitemap/plats/varmlands-lan/torsby-kommun',\n",
       " 'https://www.hemnet.se/sitemap/plats/varmlands-lan/arjangs-kommun',\n",
       " 'https://www.hemnet.se/sitemap/plats/vasterbottens-lan/bjurholms-kommun',\n",
       " 'https://www.hemnet.se/sitemap/plats/vasterbottens-lan/dorotea-kommun',\n",
       " 'https://www.hemnet.se/sitemap/plats/vasterbottens-lan/lycksele-kommun',\n",
       " 'https://www.hemnet.se/sitemap/plats/vasterbottens-lan/mala-kommun',\n",
       " 'https://www.hemnet.se/sitemap/plats/vasterbottens-lan/nordmalings-kommun',\n",
       " 'https://www.hemnet.se/sitemap/plats/vasterbottens-lan/norsjo-kommun',\n",
       " 'https://www.hemnet.se/sitemap/plats/vasterbottens-lan/robertsfors-kommun',\n",
       " 'https://www.hemnet.se/sitemap/plats/vasterbottens-lan/skelleftea-kommun',\n",
       " 'https://www.hemnet.se/sitemap/plats/vasterbottens-lan/sorsele-kommun',\n",
       " 'https://www.hemnet.se/sitemap/plats/vasterbottens-lan/storumans-kommun',\n",
       " 'https://www.hemnet.se/sitemap/plats/vasterbottens-lan/umea-kommun',\n",
       " 'https://www.hemnet.se/sitemap/plats/vasterbottens-lan/vilhelmina-kommun',\n",
       " 'https://www.hemnet.se/sitemap/plats/vasterbottens-lan/vindelns-kommun',\n",
       " 'https://www.hemnet.se/sitemap/plats/vasterbottens-lan/vannas-kommun',\n",
       " 'https://www.hemnet.se/sitemap/plats/vasterbottens-lan/asele-kommun',\n",
       " 'https://www.hemnet.se/sitemap/plats/vasternorrlands-lan/harnosands-kommun',\n",
       " 'https://www.hemnet.se/sitemap/plats/vasternorrlands-lan/hoga-kusten',\n",
       " 'https://www.hemnet.se/sitemap/plats/vasternorrlands-lan/kramfors-kommun',\n",
       " 'https://www.hemnet.se/sitemap/plats/vasternorrlands-lan/solleftea-kommun',\n",
       " 'https://www.hemnet.se/sitemap/plats/vasternorrlands-lan/sundsvalls-kommun',\n",
       " 'https://www.hemnet.se/sitemap/plats/vasternorrlands-lan/timra-kommun',\n",
       " 'https://www.hemnet.se/sitemap/plats/vasternorrlands-lan/ange-kommun',\n",
       " 'https://www.hemnet.se/sitemap/plats/vasternorrlands-lan/ornskoldsviks-kommun',\n",
       " 'https://www.hemnet.se/sitemap/plats/vastmanlands-lan/arboga-kommun',\n",
       " 'https://www.hemnet.se/sitemap/plats/vastmanlands-lan/fagersta-kommun',\n",
       " 'https://www.hemnet.se/sitemap/plats/vastmanlands-lan/hallstahammars-kommun',\n",
       " 'https://www.hemnet.se/sitemap/plats/vastmanlands-lan/kungsors-kommun',\n",
       " 'https://www.hemnet.se/sitemap/plats/vastmanlands-lan/kopings-kommun',\n",
       " 'https://www.hemnet.se/sitemap/plats/vastmanlands-lan/norbergs-kommun',\n",
       " 'https://www.hemnet.se/sitemap/plats/vastmanlands-lan/sala-kommun',\n",
       " 'https://www.hemnet.se/sitemap/plats/vastmanlands-lan/skinnskattebergs-kommun',\n",
       " 'https://www.hemnet.se/sitemap/plats/vastmanlands-lan/surahammars-kommun',\n",
       " 'https://www.hemnet.se/sitemap/plats/vastmanlands-lan/vasteras-kommun',\n",
       " 'https://www.hemnet.se/sitemap/plats/vastra-gotalands-lan/ale-kommun',\n",
       " 'https://www.hemnet.se/sitemap/plats/vastra-gotalands-lan/alingsas-kommun',\n",
       " 'https://www.hemnet.se/sitemap/plats/vastra-gotalands-lan/bengtsfors-kommun',\n",
       " 'https://www.hemnet.se/sitemap/plats/vastra-gotalands-lan/bohuslan',\n",
       " 'https://www.hemnet.se/sitemap/plats/vastra-gotalands-lan/bollebygds-kommun',\n",
       " 'https://www.hemnet.se/sitemap/plats/vastra-gotalands-lan/boras-kommun',\n",
       " 'https://www.hemnet.se/sitemap/plats/vastra-gotalands-lan/dals-eds-kommun',\n",
       " 'https://www.hemnet.se/sitemap/plats/vastra-gotalands-lan/essunga-kommun',\n",
       " 'https://www.hemnet.se/sitemap/plats/vastra-gotalands-lan/falkopings-kommun',\n",
       " 'https://www.hemnet.se/sitemap/plats/vastra-gotalands-lan/fargelanda-kommun',\n",
       " 'https://www.hemnet.se/sitemap/plats/vastra-gotalands-lan/grastorps-kommun',\n",
       " 'https://www.hemnet.se/sitemap/plats/vastra-gotalands-lan/gullspangs-kommun',\n",
       " 'https://www.hemnet.se/sitemap/plats/vastra-gotalands-lan/goteborgs-kommun',\n",
       " 'https://www.hemnet.se/sitemap/plats/vastra-gotalands-lan/gotene-kommun',\n",
       " 'https://www.hemnet.se/sitemap/plats/vastra-gotalands-lan/herrljunga-kommun',\n",
       " 'https://www.hemnet.se/sitemap/plats/vastra-gotalands-lan/hjo-kommun',\n",
       " 'https://www.hemnet.se/sitemap/plats/vastra-gotalands-lan/harryda-kommun',\n",
       " 'https://www.hemnet.se/sitemap/plats/vastra-gotalands-lan/karlsborgs-kommun',\n",
       " 'https://www.hemnet.se/sitemap/plats/vastra-gotalands-lan/kungalvs-kommun',\n",
       " 'https://www.hemnet.se/sitemap/plats/vastra-gotalands-lan/lerums-kommun',\n",
       " 'https://www.hemnet.se/sitemap/plats/vastra-gotalands-lan/lidkopings-kommun',\n",
       " 'https://www.hemnet.se/sitemap/plats/vastra-gotalands-lan/lilla-edets-kommun',\n",
       " 'https://www.hemnet.se/sitemap/plats/vastra-gotalands-lan/lysekils-kommun',\n",
       " 'https://www.hemnet.se/sitemap/plats/vastra-gotalands-lan/mariestads-kommun',\n",
       " 'https://www.hemnet.se/sitemap/plats/vastra-gotalands-lan/marks-kommun',\n",
       " 'https://www.hemnet.se/sitemap/plats/vastra-gotalands-lan/melleruds-kommun',\n",
       " 'https://www.hemnet.se/sitemap/plats/vastra-gotalands-lan/munkedals-kommun',\n",
       " 'https://www.hemnet.se/sitemap/plats/vastra-gotalands-lan/molndals-kommun',\n",
       " 'https://www.hemnet.se/sitemap/plats/vastra-gotalands-lan/orust-kommun',\n",
       " 'https://www.hemnet.se/sitemap/plats/vastra-gotalands-lan/partille-kommun',\n",
       " 'https://www.hemnet.se/sitemap/plats/vastra-gotalands-lan/skara-kommun',\n",
       " 'https://www.hemnet.se/sitemap/plats/vastra-gotalands-lan/skovde-kommun',\n",
       " 'https://www.hemnet.se/sitemap/plats/vastra-gotalands-lan/sotenas-kommun',\n",
       " 'https://www.hemnet.se/sitemap/plats/vastra-gotalands-lan/stenungsunds-kommun',\n",
       " 'https://www.hemnet.se/sitemap/plats/vastra-gotalands-lan/stromstads-kommun',\n",
       " 'https://www.hemnet.se/sitemap/plats/vastra-gotalands-lan/svenljunga-kommun',\n",
       " 'https://www.hemnet.se/sitemap/plats/vastra-gotalands-lan/tanums-kommun',\n",
       " 'https://www.hemnet.se/sitemap/plats/vastra-gotalands-lan/tibro-kommun',\n",
       " 'https://www.hemnet.se/sitemap/plats/vastra-gotalands-lan/tidaholms-kommun',\n",
       " 'https://www.hemnet.se/sitemap/plats/vastra-gotalands-lan/tjorns-kommun',\n",
       " 'https://www.hemnet.se/sitemap/plats/vastra-gotalands-lan/tranemo-kommun',\n",
       " 'https://www.hemnet.se/sitemap/plats/vastra-gotalands-lan/trollhattans-kommun',\n",
       " 'https://www.hemnet.se/sitemap/plats/vastra-gotalands-lan/toreboda-kommun',\n",
       " 'https://www.hemnet.se/sitemap/plats/vastra-gotalands-lan/uddevalla-kommun',\n",
       " 'https://www.hemnet.se/sitemap/plats/vastra-gotalands-lan/ulricehamns-kommun',\n",
       " 'https://www.hemnet.se/sitemap/plats/vastra-gotalands-lan/vara-kommun',\n",
       " 'https://www.hemnet.se/sitemap/plats/vastra-gotalands-lan/vargarda-kommun',\n",
       " 'https://www.hemnet.se/sitemap/plats/vastra-gotalands-lan/vanersborgs-kommun',\n",
       " 'https://www.hemnet.se/sitemap/plats/vastra-gotalands-lan/amals-kommun',\n",
       " 'https://www.hemnet.se/sitemap/plats/vastra-gotalands-lan/ockero-kommun',\n",
       " 'https://www.hemnet.se/sitemap/plats/orebro-lan/askersunds-kommun',\n",
       " 'https://www.hemnet.se/sitemap/plats/orebro-lan/degerfors-kommun',\n",
       " 'https://www.hemnet.se/sitemap/plats/orebro-lan/hallsbergs-kommun',\n",
       " 'https://www.hemnet.se/sitemap/plats/orebro-lan/hallefors-kommun',\n",
       " 'https://www.hemnet.se/sitemap/plats/orebro-lan/karlskoga-kommun',\n",
       " 'https://www.hemnet.se/sitemap/plats/orebro-lan/kumla-kommun',\n",
       " 'https://www.hemnet.se/sitemap/plats/orebro-lan/laxa-kommun',\n",
       " 'https://www.hemnet.se/sitemap/plats/orebro-lan/lekebergs-kommun',\n",
       " 'https://www.hemnet.se/sitemap/plats/orebro-lan/lindesbergs-kommun',\n",
       " 'https://www.hemnet.se/sitemap/plats/orebro-lan/ljusnarsbergs-kommun',\n",
       " 'https://www.hemnet.se/sitemap/plats/orebro-lan/nora-kommun',\n",
       " 'https://www.hemnet.se/sitemap/plats/orebro-lan/orebro-kommun',\n",
       " 'https://www.hemnet.se/sitemap/plats/ostergotlands-lan/boxholms-kommun',\n",
       " 'https://www.hemnet.se/sitemap/plats/ostergotlands-lan/finspangs-kommun',\n",
       " 'https://www.hemnet.se/sitemap/plats/ostergotlands-lan/kinda-kommun',\n",
       " 'https://www.hemnet.se/sitemap/plats/ostergotlands-lan/linkopings-kommun',\n",
       " 'https://www.hemnet.se/sitemap/plats/ostergotlands-lan/mjolby-kommun',\n",
       " 'https://www.hemnet.se/sitemap/plats/ostergotlands-lan/motala-kommun',\n",
       " 'https://www.hemnet.se/sitemap/plats/ostergotlands-lan/norrkopings-kommun',\n",
       " 'https://www.hemnet.se/sitemap/plats/ostergotlands-lan/soderkopings-kommun',\n",
       " 'https://www.hemnet.se/sitemap/plats/ostergotlands-lan/vadstena-kommun',\n",
       " 'https://www.hemnet.se/sitemap/plats/ostergotlands-lan/valdemarsviks-kommun',\n",
       " 'https://www.hemnet.se/sitemap/plats/ostergotlands-lan/ydre-kommun',\n",
       " 'https://www.hemnet.se/sitemap/plats/ostergotlands-lan/atvidabergs-kommun',\n",
       " 'https://www.hemnet.se/sitemap/plats/ostergotlands-lan/odeshogs-kommun']"
      ]
     },
     "execution_count": 226,
     "metadata": {},
     "output_type": "execute_result"
    }
   ],
   "source": [
    "komms=list(itertools.chain(*komms_raw))\n",
    "komms_urls=[HOME+el for el in komms]\n",
    "komms_urls"
   ]
  },
  {
   "cell_type": "code",
   "execution_count": null,
   "metadata": {},
   "outputs": [],
   "source": []
  },
  {
   "cell_type": "code",
   "execution_count": 212,
   "metadata": {
    "ExecuteTime": {
     "end_time": "2020-12-12T07:20:12.498233Z",
     "start_time": "2020-12-12T07:20:12.495649Z"
    },
    "scrolled": true
   },
   "outputs": [],
   "source": [
    "# communs=[HOME+'/salda/'+url.split('/')[-1] for url in urls_list]\n",
    "# communs"
   ]
  },
  {
   "cell_type": "code",
   "execution_count": 84,
   "metadata": {
    "ExecuteTime": {
     "end_time": "2020-12-11T20:48:21.174930Z",
     "start_time": "2020-12-11T20:48:21.165366Z"
    }
   },
   "outputs": [],
   "source": [
    "pd.DataFrame({'communs':communs}).to_pickle('communs')"
   ]
  },
  {
   "cell_type": "code",
   "execution_count": 302,
   "metadata": {
    "ExecuteTime": {
     "end_time": "2020-12-13T14:18:16.501025Z",
     "start_time": "2020-12-13T14:12:04.903576Z"
    },
    "scrolled": true
   },
   "outputs": [],
   "source": [
    "def get_districts(komms_url):\n",
    "    sleep(1)\n",
    "    r_html=HTML(html=requests.get(komms_url).text)\n",
    "    city=r_html.find('h1')[0].text.split(' ')[2]\n",
    "    els =[re.sub(\"[\\(\\[].*?[\\)\\]]\", \"\", el.text.replace('+', '-')) for el in find_el_by_cl(r_html, el='li', cl=('sitemap__list-item',))]\n",
    "    districts=np.unique(list(itertools.chain(*[[x.strip() for x in d.split('-') if x !=''] for d in els])))\n",
    "    districts = pd.DataFrame({'district':districts})\n",
    "    districts['city']=city\n",
    "    return districts\n",
    "\n",
    "districts_raw=[get_districts(url) for url in komms_urls]\n"
   ]
  },
  {
   "cell_type": "code",
   "execution_count": 303,
   "metadata": {
    "ExecuteTime": {
     "end_time": "2020-12-13T14:18:16.590704Z",
     "start_time": "2020-12-13T14:18:16.503524Z"
    }
   },
   "outputs": [],
   "source": [
    "dim_districts=pd.concat(districts_raw)\n",
    "dim_districts=pd.concat([dim_districts, \n",
    " pd.DataFrame({'district':['Tycho Hedéns väg', 'Dag Hammarskjölds Väg'], 'city': ['Uppsala', 'Uppsala']})])"
   ]
  },
  {
   "cell_type": "code",
   "execution_count": 307,
   "metadata": {
    "ExecuteTime": {
     "end_time": "2020-12-13T15:38:30.030040Z",
     "start_time": "2020-12-13T15:38:30.025009Z"
    },
    "scrolled": true
   },
   "outputs": [],
   "source": []
  },
  {
   "cell_type": "code",
   "execution_count": 308,
   "metadata": {
    "ExecuteTime": {
     "end_time": "2020-12-13T15:38:37.450253Z",
     "start_time": "2020-12-13T15:38:33.020282Z"
    }
   },
   "outputs": [
    {
     "name": "stderr",
     "output_type": "stream",
     "text": [
      "1it [00:02,  2.93s/it]\n"
     ]
    }
   ],
   "source": [
    "pandas_gbq.to_gbq(dim_districts, destination_table='crime_statistics.dim_districts_hemnet', \n",
    "                  project_id= os.environ['GCP_PROJECID'], if_exists='replace')"
   ]
  },
  {
   "cell_type": "code",
   "execution_count": 271,
   "metadata": {
    "ExecuteTime": {
     "end_time": "2020-12-13T07:04:16.415843Z",
     "start_time": "2020-12-13T07:04:16.155808Z"
    }
   },
   "outputs": [
    {
     "data": {
      "text/plain": [
       "'[{\"place_id\":308864,\"licence\":\"Data © OpenStreetMap contributors, ODbL 1.0. https://osm.org/copyright\",\"osm_type\":\"node\",\"osm_id\":124274960,\"boundingbox\":[\"60.3069718\",\"60.3869718\",\"15.7086886\",\"15.7886886\"],\"lat\":\"60.3469718\",\"lon\":\"15.7486886\",\"display_name\":\"Säter, Säters kommun, Dalarnas län, 783 30, Sverige\",\"class\":\"place\",\"type\":\"town\",\"importance\":0.41000000000000003,\"icon\":\"https://nominatim.openstreetmap.org/ui/mapicons//poi_place_town.p.20.png\"}]'"
      ]
     },
     "execution_count": 271,
     "metadata": {},
     "output_type": "execute_result"
    }
   ],
   "source": [
    "q_url=f\"\"\"\n",
    "https://nominatim.openstreetmap.org/search/405 Säter Sweden?format=json&limit=1\n",
    "\"\"\"\n",
    "requests.get(q_url).text"
   ]
  },
  {
   "cell_type": "code",
   "execution_count": 281,
   "metadata": {
    "ExecuteTime": {
     "end_time": "2020-12-13T13:46:41.602739Z",
     "start_time": "2020-12-13T13:46:39.193363Z"
    }
   },
   "outputs": [
    {
     "name": "stderr",
     "output_type": "stream",
     "text": [
      "\n",
      "Downloading:   0%|          | 0/6350 [00:33<?, ?rows/s]\u001b[A\n",
      "\n",
      "Downloading: 100%|██████████| 6350/6350 [00:01<00:00, 4920.35rows/s]\u001b[A"
     ]
    },
    {
     "name": "stdout",
     "output_type": "stream",
     "text": [
      "2.405704975128174\n"
     ]
    },
    {
     "name": "stderr",
     "output_type": "stream",
     "text": [
      "\n"
     ]
    }
   ],
   "source": [
    "import time\n",
    "tic=time.time()\n",
    "df = pandas_gbq.read_gbq(\"\"\"SELECT * FROM `my-user-project-287504.crime_statistics.cities_refined` \n",
    "                    \"\"\", project_id=os.environ['GCP_PROJECID'])\n",
    "toc=time.time()\n",
    "print(toc-tic)"
   ]
  },
  {
   "cell_type": "code",
   "execution_count": 282,
   "metadata": {
    "ExecuteTime": {
     "end_time": "2020-12-13T13:48:34.519242Z",
     "start_time": "2020-12-13T13:48:28.193852Z"
    }
   },
   "outputs": [
    {
     "name": "stderr",
     "output_type": "stream",
     "text": [
      "1it [00:04,  4.77s/it]\n"
     ]
    }
   ],
   "source": [
    "pandas_gbq.to_gbq(dim_districts, destination_table='crime_statistics.dim_districts_hemnet', \n",
    "                  project_id= os.environ['GCP_PROJECID'], if_exists='replace')"
   ]
  },
  {
   "cell_type": "code",
   "execution_count": null,
   "metadata": {},
   "outputs": [],
   "source": []
  },
  {
   "cell_type": "markdown",
   "metadata": {},
   "source": []
  },
  {
   "cell_type": "code",
   "execution_count": null,
   "metadata": {},
   "outputs": [],
   "source": [
    "### Partial updates\n",
    "\n",
    "#ToDo: \n",
    "# city_refined\n",
    "# 1. pull from bq\n",
    "# extract location details again\n",
    "# get osm coordinates\n",
    "# upload to bq\n",
    "\n",
    "\n",
    "# city_refined_en\n",
    "# 1. pull from bq\n",
    "# extract location details again\n",
    "# get osm coordinates\n",
    "# upload to bq\n"
   ]
  }
 ],
 "metadata": {
  "kernelspec": {
   "display_name": "Python [conda env:env-ml-opencv] *",
   "language": "python",
   "name": "conda-env-env-ml-opencv-py"
  },
  "language_info": {
   "codemirror_mode": {
    "name": "ipython",
    "version": 3
   },
   "file_extension": ".py",
   "mimetype": "text/x-python",
   "name": "python",
   "nbconvert_exporter": "python",
   "pygments_lexer": "ipython3",
   "version": "3.7.5"
  },
  "latex_envs": {
   "LaTeX_envs_menu_present": true,
   "autoclose": false,
   "autocomplete": true,
   "bibliofile": "biblio.bib",
   "cite_by": "apalike",
   "current_citInitial": 1,
   "eqLabelWithNumbers": true,
   "eqNumInitial": 1,
   "hotkeys": {
    "equation": "Ctrl-E",
    "itemize": "Ctrl-I"
   },
   "labels_anchors": false,
   "latex_user_defs": false,
   "report_style_numbering": false,
   "user_envs_cfg": false
  },
  "toc": {
   "base_numbering": 1,
   "nav_menu": {},
   "number_sections": true,
   "sideBar": true,
   "skip_h1_title": false,
   "title_cell": "Table of Contents",
   "title_sidebar": "Contents",
   "toc_cell": true,
   "toc_position": {},
   "toc_section_display": true,
   "toc_window_display": false
  }
 },
 "nbformat": 4,
 "nbformat_minor": 2
}
